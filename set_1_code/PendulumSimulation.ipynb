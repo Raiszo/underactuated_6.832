{
 "cells": [
  {
   "cell_type": "code",
   "execution_count": null,
   "metadata": {},
   "outputs": [],
   "source": [
    "# Run this cell first to import some modules\n",
    "# we'll need to run the examples below.\n",
    "%matplotlib inline\n",
    "import math\n",
    "import numpy as np\n",
    "import matplotlib.pyplot as plt"
   ]
  },
  {
   "cell_type": "code",
   "execution_count": null,
   "metadata": {},
   "outputs": [],
   "source": [
    "# This cell sets up a pendulum, runs a simulation, and\n",
    "# renders a video of its results. Be patient, as the simulation\n",
    "# can take a little while if the system dynamics are particularly\n",
    "# violent (e.g. the feedback rule is aggressive or not very stable).\n",
    "\n",
    "# The file custom_pendulum.py defines DampedOscillatingPendulumPlant,\n",
    "# which models the dynamics of a simple pendulum that may\n",
    "# be damped, and may have a base that is forced to oscillate.\n",
    "# It's an extension of the Pendulum plant from the underactuated\n",
    "# textbook.\n",
    "from custom_pendulum import DampedOscillatingPendulumPlant\n",
    "# We also implements some convenience functions for setting up\n",
    "# a controller and running a simulation.\n",
    "from custom_pendulum import PendulumController, RunPendulumSimulation\n",
    "# As well as a visualizer to draw the path this special\n",
    "# pendulum system takes.\n",
    "from custom_pendulum_visualizer import DampedOscillatingPendulumVisualizer\n",
    "# (The visualizer produces a video which we render via HTML)\n",
    "from IPython.display import HTML\n",
    "\n",
    "# Make a pendulum plant.\n",
    "m = 3.      # Mass\n",
    "l = 1.      # Length\n",
    "g = 10.     # Gravity\n",
    "b = 2.0     # Damping.\n",
    "C = 0       # Amplitude of base movement. Keep as 0 for no movement.\n",
    "w = 0       # Frequency of base movement. Keep as 0 for no movement.\n",
    "pendulum_plant = DampedOscillatingPendulumPlant(\n",
    "    m = m,\n",
    "    l = l,\n",
    "    g = g,\n",
    "    b = b,\n",
    "    C = C,\n",
    "    w = w)\n",
    "\n",
    "# And define a controller.\n",
    "def feedback_rule(t, theta, dtheta):\n",
    "    # CHANGE ME\n",
    "    u = 0\n",
    "    return u\n",
    "controller = PendulumController(feedback_rule)\n",
    "\n",
    "# Run a simulation from an initial condition x0,\n",
    "# for some number of seconds.\n",
    "logger = RunPendulumSimulation(pendulum_plant, controller, x0 = [1.0, 0.0], duration=20.)\n",
    "\n",
    "# Visualize the result as a video.\n",
    "vis = DampedOscillatingPendulumVisualizer()\n",
    "ani = vis.animate(logger, 60, repeat=True)\n",
    "plt.close(vis.fig)\n",
    "HTML(ani.to_html5_video())"
   ]
  },
  {
   "cell_type": "code",
   "execution_count": null,
   "metadata": {},
   "outputs": [],
   "source": [
    "# Run this cell after running a simulation to plot traces\n",
    "# of the pendulum state across time.\n",
    "fields = [\"\\theta\", \"dtheta\", \"base position\"]\n",
    "for i in range(3):\n",
    "    #plt.subplot(3, 1, i+1)\n",
    "    plt.plot(logger.sample_times(), logger.data()[i, :].transpose())\n",
    "    plt.xlabel('t')\n",
    "    plt.ylabel(fields[i])\n",
    "    plt.grid(True)\n",
    "    plt.show()"
   ]
  }
 ],
 "metadata": {
  "kernelspec": {
   "display_name": "Python 2",
   "language": "python",
   "name": "python2"
  },
  "language_info": {
   "codemirror_mode": {
    "name": "ipython",
    "version": 2
   },
   "file_extension": ".py",
   "mimetype": "text/x-python",
   "name": "python",
   "nbconvert_exporter": "python",
   "pygments_lexer": "ipython2",
   "version": "2.7.12"
  }
 },
 "nbformat": 4,
 "nbformat_minor": 2
}
